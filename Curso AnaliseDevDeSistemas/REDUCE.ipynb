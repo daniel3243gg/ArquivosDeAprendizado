{
  "nbformat": 4,
  "nbformat_minor": 0,
  "metadata": {
    "colab": {
      "provenance": []
    },
    "kernelspec": {
      "name": "python3",
      "display_name": "Python 3"
    },
    "language_info": {
      "name": "python"
    }
  },
  "cells": [
    {
      "cell_type": "code",
      "execution_count": 15,
      "metadata": {
        "colab": {
          "base_uri": "https://localhost:8080/"
        },
        "id": "qI6cQPXMQ58u",
        "outputId": "c1b412f6-b349-4676-ee33-c3021a96d802"
      },
      "outputs": [
        {
          "output_type": "stream",
          "name": "stdout",
          "text": [
            "4725\n",
            "100\n"
          ]
        }
      ],
      "source": [
        "import random\n",
        "from functools import reduce\n",
        "cont = True\n",
        "contt = 0\n",
        "num_radom = []\n",
        "while cont:\n",
        "  contt+=1\n",
        "  num_radom.append(random.randint(1,100))\n",
        "  if(contt == 100):\n",
        "    cont = False\n",
        "\n",
        "\n",
        "somador_numerico = lambda n1,n2: n1+n2\n",
        "somados = reduce(somador_numerico, num_radom)\n",
        "print(somados) # numeros somados\n",
        "\n",
        "maior_numero = lambda n1, n2: n1 if n1 > n2 else n2\n",
        "print(reduce(maior_numero, num_radom))"
      ]
    }
  ]
}