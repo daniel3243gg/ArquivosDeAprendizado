{
  "nbformat": 4,
  "nbformat_minor": 0,
  "metadata": {
    "colab": {
      "provenance": []
    },
    "kernelspec": {
      "name": "python3",
      "display_name": "Python 3"
    },
    "language_info": {
      "name": "python"
    }
  },
  "cells": [
    {
      "cell_type": "code",
      "execution_count": 22,
      "metadata": {
        "colab": {
          "base_uri": "https://localhost:8080/"
        },
        "id": "4WdqtQ_KKLYV",
        "outputId": "aebe6a36-ac0c-4ff0-80a9-4ae2e7e32c72"
      },
      "outputs": [
        {
          "output_type": "stream",
          "name": "stdout",
          "text": [
            "VIDA ATUAL DO INIMIGO: 10\n",
            "ESPECIE DO RATO: rato\n",
            "rato de combate\n",
            "20\n",
            "A QUANTIDADE DE VIDA QUE FOI RECUPERADA FOI 2.0\n",
            "\n",
            " VIDA:22\n",
            " DANO: 5\n",
            " NOME: ratutui\n",
            " IDADE: 3\n"
          ]
        }
      ],
      "source": [
        "class Animal(object):\n",
        "  def __init__(self,especie:str, idade:int, nome:str, dano:int, vida:int):\n",
        "    self.especie = especie\n",
        "    self.idade = idade\n",
        "    self.nome = nome\n",
        "    self.dano = dano\n",
        "    self.vida = vida\n",
        "  def atacar(self,vida_inimiga:int  ) -> int:\n",
        "    vida_atual = vida_inimiga - self.dano\n",
        "    return vida_atual\n",
        "  def mudarespecie(self,nova_especie:str) -> None:\n",
        "    self.especie = nova_especie\n",
        "  def recuperacao(self,taxa_de_rec:int) -> str:\n",
        "    vida_recuperada = (self.vida*taxa_de_rec)/100\n",
        "    self.vida += int(vida_recuperada)\n",
        "    msg_vida_recuperada = f'A QUANTIDADE DE VIDA QUE FOI RECUPERADA FOI {vida_recuperada}'\n",
        "    return msg_vida_recuperada\n",
        "  def __str__(self):\n",
        "    return f'\\n VIDA:{self.vida}\\n DANO: {self.dano}\\n NOME: {self.nome}\\n IDADE: {self.idade}'\n",
        "#criando objetos\n",
        "rato = Animal('rato', 3, 'ratutui', 5, 20)\n",
        "print(f'VIDA ATUAL DO INIMIGO: {rato.atacar(15)}')\n",
        "print(f'ESPECIE DO RATO: {rato.especie}')\n",
        "rato.mudarespecie('rato de combate')\n",
        "print(rato.especie)\n",
        "print(rato.vida)\n",
        "print(rato.recuperacao(10))\n",
        "print(rato)\n",
        ""
      ]
    }
  ]
}