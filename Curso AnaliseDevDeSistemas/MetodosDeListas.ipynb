{
  "nbformat": 4,
  "nbformat_minor": 0,
  "metadata": {
    "colab": {
      "provenance": []
    },
    "kernelspec": {
      "name": "python3",
      "display_name": "Python 3"
    },
    "language_info": {
      "name": "python"
    }
  },
  "cells": [
    {
      "cell_type": "code",
      "execution_count": 21,
      "metadata": {
        "colab": {
          "base_uri": "https://localhost:8080/"
        },
        "id": "A5ChaberENa3",
        "outputId": "5eff7112-87e0-4ed1-b8c2-8ab558ffc9c2"
      },
      "outputs": [
        {
          "output_type": "stream",
          "name": "stdout",
          "text": [
            "[0, 6.0, 10.0, 7.5, 8.5, 8.7, 0.0, 0.0, 10.0]\n",
            "[0, 6.0, 10.0, 7.5, 8.5, 8.7, 0.0, 0.0, 10.0, 6.0]\n",
            "[0, 6.0, 7.5, 8.5, 8.7, 0.0, 0.0, 10.0, 6.0]\n",
            "[0, 6.0, 7.5, 8.5, 8.7, 0.0, 0.0, 10.0]\n"
          ]
        }
      ],
      "source": [
        "notas_daniel_1tri = [0, 6.0, 10.0,7.5]\n",
        "notas_daniel_2tri = [8.5, 8.7, 0.0,0.0]\n",
        "notas_daniel = notas_daniel_1tri + notas_daniel_2tri\n",
        "\n",
        "\n",
        "#inserir um elemento pelo indice sem substituir na lista\n",
        "notas_daniel.insert(10,10.0)\n",
        "print(notas_daniel)\n",
        "\n",
        "#inserir o elemento no fim da lista\n",
        "notas_daniel.append(6.0)\n",
        "print(notas_daniel)\n",
        "\n",
        "\n",
        "#remover elemento pelo valor\n",
        "notas_daniel.remove(10.0)# remove o primerio elemento com o mesmo valor\n",
        "print(notas_daniel)\n",
        "\n",
        "#remover elementos pelo indice\n",
        "\n",
        "notas_daniel.pop(8)\n",
        "print(notas_daniel)"
      ]
    }
  ]
}