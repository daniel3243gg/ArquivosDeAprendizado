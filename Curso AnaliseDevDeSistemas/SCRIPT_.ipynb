{
  "nbformat": 4,
  "nbformat_minor": 0,
  "metadata": {
    "colab": {
      "provenance": []
    },
    "kernelspec": {
      "name": "python3",
      "display_name": "Python 3"
    },
    "language_info": {
      "name": "python"
    }
  },
  "cells": [
    {
      "cell_type": "code",
      "execution_count": 12,
      "metadata": {
        "colab": {
          "base_uri": "https://localhost:8080/"
        },
        "id": "bivooC7mA4VE",
        "outputId": "78be6df0-a7c9-43ec-a4f9-97b6831c0b77"
      },
      "outputs": [
        {
          "output_type": "stream",
          "name": "stdout",
          "text": [
            "Sucesso\n"
          ]
        }
      ],
      "source": [
        "import os\n",
        "import json\n",
        "from datetime import datetime\n",
        "import random\n",
        "\n",
        "import requests\n",
        "\n",
        "URL = 'https://www2.cetip.com.br/ConsultarTaxaDi/ConsultarTaxaDICetip.aspx'\n",
        "#Criandoavariáveldataehora\n",
        "data_e_hora=datetime.now()\n",
        "data=datetime.strftime(data_e_hora,'%Y/%m/%d')\n",
        "hora=datetime.strftime(data_e_hora,'%H:%M:%S')\n",
        "#CaptandoataxaCDIdositedaB3\n",
        "try:\n",
        "    response = requests.get(URL)\n",
        "    response.raise_for_status()\n",
        "except requests.HTTPError as exc:\n",
        "    print(\"Dado não encontrado, continuando.\")\n",
        "    cdi = None\n",
        "except Exception as exc:\n",
        "    print(\"Erro, parando a execução.\")\n",
        "    raise exc\n",
        "else:\n",
        "    dado = json.loads(response.text)\n",
        "    cdi = float(dado['taxa'].replace(',', '.'))\n",
        "# Verificando se o arquivo \"taxa-cdi.csv\" existe\n",
        "if not os.path.exists('./taxa-cdi.csv'):\n",
        "    with open(file='./taxa-cdi.csv', mode='w', encoding='utf8') as fp:\n",
        "        fp.write('data,hora,taxa\\n')\n",
        "\n",
        "# Salvando dados no arquivo \"taxa-cdi.csv\"\n",
        "with open(file='./taxa-cdi.csv', mode='a', encoding='utf8') as fp:\n",
        "    fp.write(f'{data},{hora},{cdi}\\n')\n",
        "\n",
        "print(\"Sucesso\")"
      ]
    }
  ]
}