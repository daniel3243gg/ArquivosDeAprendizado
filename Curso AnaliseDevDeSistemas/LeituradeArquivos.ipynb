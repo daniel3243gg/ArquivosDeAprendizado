{
  "nbformat": 4,
  "nbformat_minor": 0,
  "metadata": {
    "colab": {
      "provenance": []
    },
    "kernelspec": {
      "name": "python3",
      "display_name": "Python 3"
    },
    "language_info": {
      "name": "python"
    }
  },
  "cells": [
    {
      "cell_type": "code",
      "execution_count": null,
      "metadata": {
        "id": "Ho63tcwCH02u"
      },
      "outputs": [],
      "source": [
        "with open(file='banco.csv', mode='r', encoding='utf8') as arquivo:\n",
        " conteudo = []\n",
        " linha = arquivo.readline()\n",
        " while linha:\n",
        "  conteudo.append(linha)\n",
        "  linha = arquivo.readline()\n",
        "\n",
        "print(conteudo)\n",
        "\n",
        "idades = []\n",
        "for dado in conteudo[1:]:\n",
        "   linha_separada = dado.split(sep=',') # quebra a string nas virgulas e salva os resultados em uma lista\n",
        "   idade = linha_separada[0]\n",
        "   int(idade)\n",
        "   idades.append(idade)\n",
        "\n",
        "\n",
        "print(idades)"
      ]
    }
  ]
}