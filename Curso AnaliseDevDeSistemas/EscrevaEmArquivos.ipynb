{
  "nbformat": 4,
  "nbformat_minor": 0,
  "metadata": {
    "colab": {
      "provenance": []
    },
    "kernelspec": {
      "name": "python3",
      "display_name": "Python 3"
    },
    "language_info": {
      "name": "python"
    }
  },
  "cells": [
    {
      "cell_type": "code",
      "execution_count": null,
      "metadata": {
        "id": "yDOl0bZa2lXJ"
      },
      "outputs": [],
      "source": [
        "%%writefile banco-texto.txt\n",
        "age,job,marital,education,default,balance,housing,loan\n",
        "30,unemployed,married,primary,no,1787,no,no 33,services,married,secondary,no,4789,yes,yes\n",
        "35,management,single,tertiary,no,1350,yes,no\n",
        "30,management,married,tertiary,no,1476,yes,yes\n",
        "59,blue-collar,married,secondary,no,0,yes,no\n",
        "35,management,single,tertiary,no,747,no,no\n",
        "36,self-employed,married,tertiary,no,307,yes,no\n",
        "39,technician,married,secondary,no,147,yes,no\n",
        "41,entrepreneur,married,tertiary,no,221,yes,no\n",
        "43,services,married,primary,no,-88,yes,yes\n"
      ]
    },
    {
      "cell_type": "code",
      "source": [
        "conteudo = []\n",
        "idade = []\n",
        "with open(file='./banco-texto.txt', mode='r', encoding='utf8') as f_leitura:\n",
        "  with open(file='ano-dos-usuarios.txt', mode= 'w', encoding='utf8') as f_escrita:\n",
        "    linha = f_leitura.readline()\n",
        "    while linha:#codigo que gera o arquivo com a idade dos user é cria a lista do arquivo de leitura\n",
        "      linha_separada = linha.split(sep=',')\n",
        "      conteudo.append(linha_separada)\n",
        "      #print(linha_separada)\n",
        "      idade = linha_separada[0]\n",
        "      idade = f'IDADE DOS USER: {idade} \\n'\n",
        "      if(idade == 'IDADE DOS USER: age \\n'):\n",
        "          idade = ''\n",
        "      f_escrita.write(idade)\n",
        "      linha = f_leitura.readline()\n",
        "\n",
        "\n",
        "\n",
        "\n",
        "\n",
        "    print(conteudo)\n",
        "\n",
        "#acrescenta algo em um arquivo sem modificar ele:\n",
        "with open(file='./banco-texto.txt', mode='a', encoding='utf8') as f_modificando:\n",
        "  ola = 'ACRESCENTANDO ALGO AO ARQUIVO'\n",
        "  f_modificando.write(ola)\n"
      ],
      "metadata": {
        "colab": {
          "base_uri": "https://localhost:8080/"
        },
        "id": "i2uy5LJ23KVi",
        "outputId": "3224abf1-2572-4911-f12d-baacf7edcb2f"
      },
      "execution_count": 89,
      "outputs": [
        {
          "output_type": "stream",
          "name": "stdout",
          "text": [
            "[['age', 'job', 'marital', 'education', 'default', 'balance', 'housing', 'loan \\n'], ['30', 'unemployed', 'married', 'primary', 'no', '1787', 'no', 'no 33', 'services', 'married', 'secondary', 'no', '4789', 'yes', 'yes \\n'], ['35', 'management', 'single', 'tertiary', 'no', '1350', 'yes', 'no \\n'], ['30', 'management', 'married', 'tertiary', 'no', '1476', 'yes', 'yes \\n'], ['59', 'blue-collar', 'married', 'secondary', 'no', '0', 'yes', 'no \\n'], ['35', 'management', 'single', 'tertiary', 'no', '747', 'no', 'no \\n'], ['36', 'self-employed', 'married', 'tertiary', 'no', '307', 'yes', 'no \\n'], ['39', 'technician', 'married', 'secondary', 'no', '147', 'yes', 'no \\n'], ['41', 'entrepreneur', 'married', 'tertiary', 'no', '221', 'yes', 'no \\n'], ['43', 'services', 'married', 'primary', 'no', '-88', 'yes', 'yes\\n']]\n"
          ]
        }
      ]
    }
  ]
}