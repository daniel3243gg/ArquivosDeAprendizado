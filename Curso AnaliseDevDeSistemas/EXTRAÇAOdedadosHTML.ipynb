{
  "nbformat": 4,
  "nbformat_minor": 0,
  "metadata": {
    "colab": {
      "provenance": []
    },
    "kernelspec": {
      "name": "python3",
      "display_name": "Python 3"
    },
    "language_info": {
      "name": "python"
    }
  },
  "cells": [
    {
      "cell_type": "code",
      "execution_count": 2,
      "metadata": {
        "id": "OlNNgy3K9Rho",
        "colab": {
          "base_uri": "https://localhost:8080/",
          "height": 141
        },
        "outputId": "8f1c2243-cd82-4a71-c389-3b9bafe0512f"
      },
      "outputs": [
        {
          "output_type": "display_data",
          "data": {
            "text/plain": [
              "<IPython.core.display.HTML object>"
            ],
            "text/html": [
              "<html> \n",
              " <head> <!-- metadata --> </head> \n",
              "<body>\n",
              " <h3>Senhor dos Anéis</h3> \n",
              " <p>Filmes:</p> \n",
              " <ul> <li><b>2001:</b> O Senhor dos Anéis: A Sociedade do Anel</li> \n",
              " <li><b>2002:</b> O Senhor dos Anéis: As Duas Torres</li> \n",
              " <li><b>2003:</b> O Senhor dos Anéis: O Retorno do Rei</li> \n",
              " </ul> \n",
              " </body> \n",
              " </html>\n"
            ]
          },
          "metadata": {}
        }
      ],
      "source": [
        " %%html\n",
        " <html>\n",
        "  <head> <!-- metadata --> </head>\n",
        " <body>\n",
        "  <h3>Senhor dos Anéis</h3>\n",
        "  <p>Filmes:</p>\n",
        "  <ul> <li><b>2001:</b> O Senhor dos Anéis: A Sociedade do Anel</li>\n",
        "  <li><b>2002:</b> O Senhor dos Anéis: As Duas Torres</li>\n",
        "  <li><b>2003:</b> O Senhor dos Anéis: O Retorno do Rei</li>\n",
        "  </ul>\n",
        "  </body>\n",
        "  </html>"
      ]
    },
    {
      "cell_type": "code",
      "source": [
        "%%writefile lotr.html\n",
        "<html>\n",
        "<head> <!-- metadata --> </head>\n",
        " <body>\n",
        " <h3>Senhor dos Anéis</h3>\n",
        " <p>Filmes:</p>\n",
        " <ol> <li><b>2001:</b> O Senhor dos Anéis: A Sociedade do Anel</li>\n",
        " <li><b>2002:</b> O Senhor dos Anéis: As Duas Torres</li>\n",
        " <li><b>2003:</b> O Senhor dos Anéis: O Retorno do Rei</li>\n",
        " </ol>\n",
        " </body>\n",
        "  </html>"
      ],
      "metadata": {
        "colab": {
          "base_uri": "https://localhost:8080/"
        },
        "id": "xbJXYBlWVRth",
        "outputId": "86fff8cd-079a-4210-adc1-b0f205144992"
      },
      "execution_count": 3,
      "outputs": [
        {
          "output_type": "stream",
          "name": "stdout",
          "text": [
            "Writing lotr.html\n"
          ]
        }
      ]
    },
    {
      "cell_type": "code",
      "source": [
        "#trouxe os dados do arquivo HTML para dentro do PYTTHON\n",
        "from bs4 import BeautifulSoup\n",
        "pagina = BeautifulSoup(open('lotr.html', mode='r'), 'html.parser')\n",
        "filmes_li = pagina.find_all('li')\n",
        "print(filmes_li)\n",
        "print(list(set(map(lambda filme_li: type(filme_li), filmes_li))))"
      ],
      "metadata": {
        "colab": {
          "base_uri": "https://localhost:8080/"
        },
        "id": "oXwmYtkrVj45",
        "outputId": "81d3b18e-9e21-4efb-893b-4ae9e14b8db9"
      },
      "execution_count": 22,
      "outputs": [
        {
          "output_type": "stream",
          "name": "stdout",
          "text": [
            "[<li><b>2001:</b> O Senhor dos Anéis: A Sociedade do Anel</li>, <li><b>2002:</b> O Senhor dos Anéis: As Duas Torres</li>, <li><b>2003:</b> O Senhor dos Anéis: O Retorno do Rei</li>]\n",
            "[<class 'bs4.element.Tag'>]\n"
          ]
        }
      ]
    },
    {
      "cell_type": "code",
      "source": [
        "filmes = []\n",
        "for filme_li in filmes_li:\n",
        "  filme = filme_li.get_text()\n",
        "  ano = int(filme.split(sep=':')[0].strip())\n",
        "  titulo = ':'.join(filme.split(sep=':')[1:]).strip()\n",
        "  filmes.append({'ano': ano, 'titulo': titulo})\n",
        "  for filme in filmes: print(filme)"
      ],
      "metadata": {
        "colab": {
          "base_uri": "https://localhost:8080/"
        },
        "id": "NlRPuYLCV6Ze",
        "outputId": "3d3dea85-ac5d-42ba-cf8d-a08d67562b43"
      },
      "execution_count": 21,
      "outputs": [
        {
          "output_type": "stream",
          "name": "stdout",
          "text": [
            "{'ano': 2001, 'titulo': 'O Senhor dos Anéis: A Sociedade do Anel'}\n",
            "{'ano': 2001, 'titulo': 'O Senhor dos Anéis: A Sociedade do Anel'}\n",
            "{'ano': 2002, 'titulo': 'O Senhor dos Anéis: As Duas Torres'}\n",
            "{'ano': 2001, 'titulo': 'O Senhor dos Anéis: A Sociedade do Anel'}\n",
            "{'ano': 2002, 'titulo': 'O Senhor dos Anéis: As Duas Torres'}\n",
            "{'ano': 2003, 'titulo': 'O Senhor dos Anéis: O Retorno do Rei'}\n"
          ]
        }
      ]
    },
    {
      "cell_type": "code",
      "source": [
        "#EXTRAINDO UMA PAGINA HTML DIRETO\n",
        "\n",
        "URL = 'https://en.wikipedia.org/wiki/Web_crawler'\n",
        "conteudo = crawl_website(url=URL)\n",
        "with open(file='wiki.html', mode='w', encoding='utf8') as arquivo:\n",
        "  arquivo.write(conteudo)\n",
        "print(conteudo)\n",
        "from bs4 import BeautifulSoup\n",
        "pagina = BeautifulSoup(open('wiki.html', mode='r'), 'html.parser')\n",
        "texto = pagina.get_text()\n",
        "print(texto)\n",
        "import re\n",
        "ocorrencias = len(re.findall('crawler', texto, re.IGNORECASE))\n",
        "print(ocorrencias)"
      ],
      "metadata": {
        "colab": {
          "base_uri": "https://localhost:8080/",
          "height": 247
        },
        "id": "hpZvaGjoYJHn",
        "outputId": "799936b8-b7b1-4bd3-8597-b691676f3bc0"
      },
      "execution_count": 23,
      "outputs": [
        {
          "output_type": "error",
          "ename": "NameError",
          "evalue": "ignored",
          "traceback": [
            "\u001b[0;31m---------------------------------------------------------------------------\u001b[0m",
            "\u001b[0;31mNameError\u001b[0m                                 Traceback (most recent call last)",
            "\u001b[0;32m<ipython-input-23-d8ff638fbc6a>\u001b[0m in \u001b[0;36m<cell line: 4>\u001b[0;34m()\u001b[0m\n\u001b[1;32m      2\u001b[0m \u001b[0;34m\u001b[0m\u001b[0m\n\u001b[1;32m      3\u001b[0m \u001b[0mURL\u001b[0m \u001b[0;34m=\u001b[0m \u001b[0;34m'https://en.wikipedia.org/wiki/Web_crawler'\u001b[0m\u001b[0;34m\u001b[0m\u001b[0;34m\u001b[0m\u001b[0m\n\u001b[0;32m----> 4\u001b[0;31m \u001b[0mconteudo\u001b[0m \u001b[0;34m=\u001b[0m \u001b[0mcrawl_website\u001b[0m\u001b[0;34m(\u001b[0m\u001b[0murl\u001b[0m\u001b[0;34m=\u001b[0m\u001b[0mURL\u001b[0m\u001b[0;34m)\u001b[0m\u001b[0;34m\u001b[0m\u001b[0;34m\u001b[0m\u001b[0m\n\u001b[0m\u001b[1;32m      5\u001b[0m \u001b[0;32mwith\u001b[0m \u001b[0mopen\u001b[0m\u001b[0;34m(\u001b[0m\u001b[0mfile\u001b[0m\u001b[0;34m=\u001b[0m\u001b[0;34m'wiki.html'\u001b[0m\u001b[0;34m,\u001b[0m \u001b[0mmode\u001b[0m\u001b[0;34m=\u001b[0m\u001b[0;34m'w'\u001b[0m\u001b[0;34m,\u001b[0m \u001b[0mencoding\u001b[0m\u001b[0;34m=\u001b[0m\u001b[0;34m'utf8'\u001b[0m\u001b[0;34m)\u001b[0m \u001b[0;32mas\u001b[0m \u001b[0marquivo\u001b[0m\u001b[0;34m:\u001b[0m\u001b[0;34m\u001b[0m\u001b[0;34m\u001b[0m\u001b[0m\n\u001b[1;32m      6\u001b[0m   \u001b[0marquivo\u001b[0m\u001b[0;34m.\u001b[0m\u001b[0mwrite\u001b[0m\u001b[0;34m(\u001b[0m\u001b[0mconteudo\u001b[0m\u001b[0;34m)\u001b[0m\u001b[0;34m\u001b[0m\u001b[0;34m\u001b[0m\u001b[0m\n",
            "\u001b[0;31mNameError\u001b[0m: name 'crawl_website' is not defined"
          ]
        }
      ]
    }
  ]
}