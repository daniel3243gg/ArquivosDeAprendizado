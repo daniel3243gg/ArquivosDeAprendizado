{
  "nbformat": 4,
  "nbformat_minor": 0,
  "metadata": {
    "colab": {
      "provenance": []
    },
    "kernelspec": {
      "name": "python3",
      "display_name": "Python 3"
    },
    "language_info": {
      "name": "python"
    }
  },
  "cells": [
    {
      "cell_type": "code",
      "execution_count": 14,
      "metadata": {
        "colab": {
          "base_uri": "https://localhost:8080/"
        },
        "id": "Azu6UlUSQ8O9",
        "outputId": "4058d08e-7d56-4e4b-8017-505cd6a8e7bb"
      },
      "outputs": [
        {
          "output_type": "stream",
          "name": "stdout",
          "text": [
            "ENDREÇOI DE EMAIL: DANIEW600\n",
            "EDNREÇO DO PROVEDOR: GMAIL.COM\n",
            "0\n",
            "daniew800@gmail.com\n"
          ]
        }
      ],
      "source": [
        "email ='daniew600@gmail.com'\n",
        "print(f'ENDREÇOI DE EMAIL: {email[0:9].upper()}')\n",
        "print(f'EDNREÇO DO PROVEDOR: {email[10:19].upper()}')\n",
        "print(email.find('dani'))\n",
        "print(email.replace('600', '800'))\n",
        "\n"
      ]
    }
  ]
}