{
  "nbformat": 4,
  "nbformat_minor": 0,
  "metadata": {
    "colab": {
      "provenance": []
    },
    "kernelspec": {
      "name": "python3",
      "display_name": "Python 3"
    },
    "language_info": {
      "name": "python"
    }
  },
  "cells": [
    {
      "cell_type": "code",
      "execution_count": 61,
      "metadata": {
        "colab": {
          "base_uri": "https://localhost:8080/"
        },
        "id": "NyMW_vG5-trY",
        "outputId": "ddf8a9c5-b4ea-49ca-b1c4-414657dc0c58"
      },
      "outputs": [
        {
          "output_type": "stream",
          "name": "stdout",
          "text": [
            "[2, 4, 6, 8, 10]\n",
            "[100, 400, 900, 1600, 2500]\n",
            "[[200, 400, 600, 800, 1000]]\n"
          ]
        }
      ],
      "source": [
        "num1 = [1,2,3,4,5]\n",
        "num2 = [10,20,30,40,50]\n",
        "num3 = [100,200,300,400,500]\n",
        "somador = lambda n1: n1+n1\n",
        "print(list(map(somador,num1)))\n",
        "\n",
        "somador2 = map(lambda n1: n1*n1, num2)\n",
        "print(list(somador2))\n",
        "\n",
        "retorno = []\n",
        "def somador3(colecao:list ):\n",
        "  for n1 in colecao:\n",
        "    nn = n1+n1\n",
        "    retorno.append(nn)\n",
        "  return retorno\n",
        "\n",
        "retorno2 = map(somador3, [num3])\n",
        "print(list(retorno2))"
      ]
    }
  ]
}