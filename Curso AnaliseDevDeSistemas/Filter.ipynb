{
  "nbformat": 4,
  "nbformat_minor": 0,
  "metadata": {
    "colab": {
      "provenance": []
    },
    "kernelspec": {
      "name": "python3",
      "display_name": "Python 3"
    },
    "language_info": {
      "name": "python"
    }
  },
  "cells": [
    {
      "cell_type": "code",
      "execution_count": 11,
      "metadata": {
        "colab": {
          "base_uri": "https://localhost:8080/"
        },
        "id": "I-YcZJpR2Bgt",
        "outputId": "50981086-bec9-4fa3-bd20-f0b16a621118"
      },
      "outputs": [
        {
          "output_type": "stream",
          "name": "stdout",
          "text": [
            "['daniew600@gmail.com', 'dani@gmail.com']\n",
            "['talita@hotmail.com', 'helio@yahoo.com']\n"
          ]
        }
      ],
      "source": [
        "emails = ['daniew600@gmail.com', 'talita@hotmail.com', 'helio@yahoo.com', 'dani@gmail.com']\n",
        "emailsGoogle = filter(lambda email: email.split('@')[1] == 'gmail.com', emails)\n",
        "emailsTipicos = filter(lambda email: email.split('@')[1] != 'gmail.com', emails)\n",
        "\n",
        "print(list(emailsGoogle))\n",
        "print(list(emailsTipicos))\n"
      ]
    }
  ]
}