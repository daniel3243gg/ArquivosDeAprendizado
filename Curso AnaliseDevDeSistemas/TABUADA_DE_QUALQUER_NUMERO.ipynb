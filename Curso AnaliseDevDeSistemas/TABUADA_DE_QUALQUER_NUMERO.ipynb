{
  "nbformat": 4,
  "nbformat_minor": 0,
  "metadata": {
    "colab": {
      "provenance": []
    },
    "kernelspec": {
      "name": "python3",
      "display_name": "Python 3"
    },
    "language_info": {
      "name": "python"
    }
  },
  "cells": [
    {
      "cell_type": "code",
      "execution_count": 46,
      "metadata": {
        "colab": {
          "base_uri": "https://localhost:8080/"
        },
        "id": "N9vrxePLx2iY",
        "outputId": "4139d88f-43d9-40b9-f59d-ce03a8c2851e"
      },
      "outputs": [
        {
          "output_type": "stream",
          "name": "stdout",
          "text": [
            "qual é a tabuada que deseja saber?daniel\n",
            "VOCE DIGITOU UMA PALAVRA, POR FAVOR DIGITE UM NUMERO PARA SABER A TABUADA.\n",
            "qual é a tabuada que deseja saber?daniel\n",
            "VOCE DIGITOU UMA PALAVRA, POR FAVOR DIGITE UM NUMERO PARA SABER A TABUADA.\n",
            "qual é a tabuada que deseja saber?daniel\n",
            "VOCE DIGITOU UMA PALAVRA, POR FAVOR DIGITE UM NUMERO PARA SABER A TABUADA.\n",
            "qual é a tabuada que deseja saber?daniel\n",
            "VOCE DIGITOU UMA PALAVRA, POR FAVOR DIGITE UM NUMERO PARA SABER A TABUADA.\n",
            "qual é a tabuada que deseja saber?90\n",
            "90 x 1 = 90\n",
            " \n",
            "90 x 2 = 180\n",
            " \n",
            "90 x 3 = 270\n",
            " \n",
            "90 x 4 = 360\n",
            " \n",
            "90 x 5 = 450\n",
            " \n",
            "90 x 6 = 540\n",
            " \n",
            "90 x 7 = 630\n",
            " \n",
            "90 x 8 = 720\n",
            " \n",
            "90 x 9 = 810\n",
            " \n",
            "90 x 10 = 900\n",
            " \n"
          ]
        }
      ],
      "source": [
        "tabuada = []\n",
        "entrada_while = True\n",
        "while entrada_while:\n",
        "\n",
        "  try:\n",
        "    tabuada_desejada = int(input('qual é a tabuada que deseja saber?'))\n",
        "    n1 =1\n",
        "    while n1 <= 10:\n",
        "      tabuada_ = tabuada_desejada * n1\n",
        "      tabuada.append(tabuada_)\n",
        "      print(f'{tabuada_desejada} x {n1} = {tabuada_}\\n ')\n",
        "      n1+=1\n",
        "    entrada_while = False\n",
        "  except ValueError as erro:\n",
        "    print('VOCE DIGITOU UMA PALAVRA, POR FAVOR DIGITE UM NUMERO PARA SABER A TABUADA.')\n",
        "    entrada_while = True\n",
        "\n",
        "\n"
      ]
    }
  ]
}