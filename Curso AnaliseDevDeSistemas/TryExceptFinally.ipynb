{
  "nbformat": 4,
  "nbformat_minor": 0,
  "metadata": {
    "colab": {
      "provenance": []
    },
    "kernelspec": {
      "name": "python3",
      "display_name": "Python 3"
    },
    "language_info": {
      "name": "python"
    }
  },
  "cells": [
    {
      "cell_type": "code",
      "execution_count": 52,
      "metadata": {
        "colab": {
          "base_uri": "https://localhost:8080/"
        },
        "id": "9ZRrY4gD06gi",
        "outputId": "dfb564d9-84d2-4329-ad96-073a7a906abd"
      },
      "outputs": [
        {
          "output_type": "stream",
          "name": "stdout",
          "text": [
            "can only concatenate str (not \"int\") to str\n",
            "<class 'TypeError'>\n",
            "daniel felifiano 17\n",
            "a quantidade deve ser maior que 0\n",
            "codigo corrigido\n",
            "1000.0\n"
          ]
        }
      ],
      "source": [
        "#correçao de erro com exibicao do erro (generico)\n",
        "nome = 'daniel felifiano'\n",
        "idade= 17\n",
        "try:\n",
        "  print(nome+idade)\n",
        "except Exception as ex: #cria uma variavel pra o erro\n",
        "  print(ex)\n",
        "  print(type(ex))\n",
        "\n",
        "finally:\n",
        "    print(nome + ' '+ str( idade))\n",
        "\n",
        "#erro espeficifco\n",
        "\n",
        "valor = 1000\n",
        "qnt = 0\n",
        "try:\n",
        "  print(valor/qnt)\n",
        "except ZeroDivisionError:\n",
        "  print('a quantidade deve ser maior que 0')\n",
        "finally:\n",
        "  print('codigo corrigido')\n",
        "  qnt = 1\n",
        "  print(valor/qnt)"
      ]
    }
  ]
}