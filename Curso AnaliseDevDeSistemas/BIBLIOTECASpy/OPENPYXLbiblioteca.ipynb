{
  "nbformat": 4,
  "nbformat_minor": 0,
  "metadata": {
    "colab": {
      "provenance": []
    },
    "kernelspec": {
      "name": "python3",
      "display_name": "Python 3"
    },
    "language_info": {
      "name": "python"
    }
  },
  "cells": [
    {
      "cell_type": "code",
      "execution_count": null,
      "metadata": {
        "id": "UIgivy_LTNLP"
      },
      "outputs": [],
      "source": []
    },
    {
      "cell_type": "code",
      "source": [
        "!pip install openpyxl\n"
      ],
      "metadata": {
        "colab": {
          "base_uri": "https://localhost:8080/"
        },
        "id": "q-T8hNKYT-eB",
        "outputId": "6bd1626b-7743-4ca2-e672-c161065fc968"
      },
      "execution_count": 2,
      "outputs": [
        {
          "output_type": "stream",
          "name": "stdout",
          "text": [
            "Requirement already satisfied: openpyxl in /usr/local/lib/python3.10/dist-packages (3.1.2)\n",
            "Requirement already satisfied: et-xmlfile in /usr/local/lib/python3.10/dist-packages (from openpyxl) (1.1.0)\n"
          ]
        }
      ]
    },
    {
      "cell_type": "code",
      "source": [
        "from openpyxl import load_workbook\n",
        "planilhas = load_workbook(filename='banco.xlsx')\n",
        "planilha = planilhas.active\n",
        "print(planilha)\n"
      ],
      "metadata": {
        "id": "w2buPqyQUAlU"
      },
      "execution_count": null,
      "outputs": []
    },
    {
      "cell_type": "code",
      "source": [
        "saldos = []\n",
        "cabecalho = next(planilha.values)\n",
        "indice_saldo = cabecalho.index('balance')\n",
        "saldos = [ linha[indice_saldo] for linha in planilha.values if linha[indice_saldo] != 'balance' ]\n",
        "print(saldos)"
      ],
      "metadata": {
        "id": "yXoDySSYVFu3"
      },
      "execution_count": null,
      "outputs": []
    }
  ]
}