{
  "nbformat": 4,
  "nbformat_minor": 0,
  "metadata": {
    "colab": {
      "provenance": []
    },
    "kernelspec": {
      "name": "python3",
      "display_name": "Python 3"
    },
    "language_info": {
      "name": "python"
    }
  },
  "cells": [
    {
      "cell_type": "code",
      "execution_count": 42,
      "metadata": {
        "colab": {
          "base_uri": "https://localhost:8080/"
        },
        "id": "sABI4m9b-IxY",
        "outputId": "8785ad33-27b9-48a4-e431-9c1cb21c5534"
      },
      "outputs": [
        {
          "output_type": "stream",
          "name": "stdout",
          "text": [
            "<Response [200]>\n",
            "{'pessoas': {'DANIEL': 'FELICIANO', 'JULLY': 'ESTER', 'carla': 100, 'daniel': 1, 'jilberto': '10 anos', 'juilly': {'-NhE5aJAeNW6n0P0L92o': {'IDADE': 10, 'NOME DO PET': 'PUFF', 'SOBRENOME': 'ester'}, '-NhE5t9tmdQB8lph08Wb': {'IDADE': 10, 'NOME DO PET': 'PUFF', 'SOBRENOME': 'ester'}, '-NhE6HU0Rd_KkImQQYd4': {'IDADE': 10, 'NOME DO PET': 'PUFF', 'SOBRENOME': 'ester'}}}}\n",
            "100\n"
          ]
        },
        {
          "output_type": "execute_result",
          "data": {
            "text/plain": [
              "<Response [200]>"
            ]
          },
          "metadata": {},
          "execution_count": 42
        }
      ],
      "source": [
        "import requests\n",
        "#USANDO GET\n",
        "conteudo= requests.get('https://teste-d8269-default-rtdb.firebaseio.com/.json')#importandno com get\n",
        "print(conteudo)#imprimindo o codigo 200 ou 400\n",
        "print(conteudo.json())#imprimindo o conteudo\n",
        "print(conteudo.json()['pessoas']['carla'])#SELECIONANDO QUAL PARTE EU DESEJO\n",
        "\n",
        "#USANDO O POST\n",
        "conteudo_1 = {'IDADE': 10, 'SOBRENOME': 'ester', 'NOME DO PET': 'PUFF'}#CRIANDO O DICIONARIO A SER ENVIADO\n",
        "requests.post('https://teste-d8269-default-rtdb.firebaseio.com/pessoas/juilly.json', json=conteudo_1)#REQUISAO DO POST\n",
        "\n",
        "#USANDO PATCH\n",
        "conteudo_0 = {'daniel': 1}#selecionando a key e dps a modificaçao\n",
        "requests.patch('https://teste-d8269-default-rtdb.firebaseio.com/pessoas.json', json=conteudo_0) #pedindo a mudança\n",
        "\n",
        "#usando o delete\n",
        "requests.delete('https://teste-d8269-default-rtdb.firebaseio.com/pessoas.json')"
      ]
    }
  ]
}