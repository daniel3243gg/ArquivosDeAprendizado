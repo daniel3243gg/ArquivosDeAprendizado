{
  "nbformat": 4,
  "nbformat_minor": 0,
  "metadata": {
    "colab": {
      "provenance": []
    },
    "kernelspec": {
      "name": "python3",
      "display_name": "Python 3"
    },
    "language_info": {
      "name": "python"
    }
  },
  "cells": [
    {
      "cell_type": "code",
      "execution_count": 8,
      "metadata": {
        "colab": {
          "base_uri": "https://localhost:8080/",
          "height": 229
        },
        "id": "LmYtCqbQ0O5n",
        "outputId": "2419d6a8-0012-42ba-a136-9850a47fafda"
      },
      "outputs": [
        {
          "output_type": "error",
          "ename": "NameError",
          "evalue": "ignored",
          "traceback": [
            "\u001b[0;31m---------------------------------------------------------------------------\u001b[0m",
            "\u001b[0;31mNameError\u001b[0m                                 Traceback (most recent call last)",
            "\u001b[0;32m<ipython-input-8-6746dc79fcbf>\u001b[0m in \u001b[0;36m<cell line: 3>\u001b[0;34m()\u001b[0m\n\u001b[1;32m      1\u001b[0m \u001b[0;32mimport\u001b[0m \u001b[0mpandas\u001b[0m \u001b[0;32mas\u001b[0m \u001b[0mpd\u001b[0m\u001b[0;34m\u001b[0m\u001b[0;34m\u001b[0m\u001b[0m\n\u001b[1;32m      2\u001b[0m \u001b[0;34m\u001b[0m\u001b[0m\n\u001b[0;32m----> 3\u001b[0;31m \u001b[0mgrouped_languages_df\u001b[0m\u001b[0;34m.\u001b[0m\u001b[0mplot\u001b[0m\u001b[0;34m.\u001b[0m\u001b[0mpie\u001b[0m\u001b[0;34m(\u001b[0m\u001b[0my\u001b[0m\u001b[0;34m=\u001b[0m\u001b[0;34m'amount'\u001b[0m\u001b[0;34m,\u001b[0m \u001b[0mfigsize\u001b[0m\u001b[0;34m=\u001b[0m\u001b[0;34m(\u001b[0m\u001b[0;36m11\u001b[0m\u001b[0;34m,\u001b[0m \u001b[0;36m6\u001b[0m\u001b[0;34m)\u001b[0m\u001b[0;34m)\u001b[0m \u001b[0;31m#y é a coluna que desejo fazer o grafico de pizza\u001b[0m\u001b[0;34m\u001b[0m\u001b[0;34m\u001b[0m\u001b[0m\n\u001b[0m\u001b[1;32m      4\u001b[0m \u001b[0mgithub_df\u001b[0m\u001b[0;34m.\u001b[0m\u001b[0mplot\u001b[0m\u001b[0;34m.\u001b[0m\u001b[0mscatter\u001b[0m\u001b[0;34m(\u001b[0m\u001b[0mx\u001b[0m\u001b[0;34m=\u001b[0m\u001b[0;34m'stars'\u001b[0m\u001b[0;34m,\u001b[0m  \u001b[0my\u001b[0m\u001b[0;34m=\u001b[0m\u001b[0;34m'forks'\u001b[0m\u001b[0;34m)\u001b[0m \u001b[0;31m# GRAFICO DE pontos x/y indica os eixos\u001b[0m\u001b[0;34m\u001b[0m\u001b[0;34m\u001b[0m\u001b[0m\n",
            "\u001b[0;31mNameError\u001b[0m: name 'grouped_languages_df' is not defined"
          ]
        }
      ],
      "source": [
        "#GRAFICOS PANDAS\n",
        "import pandas as pd\n",
        "\n",
        "grouped_languages_df.plot.pie(y='amount', figsize=(11, 6)) #y é a coluna que desejo fazer o grafico de pizza\n",
        "github_df.plot.scatter(x='stars',  y='forks') # GRAFICO DE pontos x/y indica os eixos\n",
        "github_df.query('stars < 100000').plot.scatter( x='stars', y='forks', c='ranking', colormap='viridis' ) #query serve para filtar o tamanho do grafico, c='ranking' cria um rank, colormap é a paleta de cores do grafico\n",
        "\n",
        "\n"
      ]
    },
    {
      "cell_type": "code",
      "source": [
        "github_df.isnull()#CRIA um dataframe colocando true/false como valor, TRUE significa que tem um nulo(NaN) ali, é False indica que contem um valor normal\n",
        ": github_df.isnull().any()# cria uma serie inidicando quais colunas tem nulos(NaN)\n",
        "github_df.isnull().any().any()#retorna si contem algum Nulo(NaN) no dataframe\n",
        "\n",
        "\n",
        "github_df.dropna() #remove todaas as linhas que contem algum valor nulo(NaN)\n",
        "github_df.fillna('')#Seleciona todos os valores vazios e cololca alguem valor neles."
      ],
      "metadata": {
        "id": "bhmpFjaE5wyD"
      },
      "execution_count": null,
      "outputs": []
    }
  ]
}