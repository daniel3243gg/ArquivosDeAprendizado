{
  "nbformat": 4,
  "nbformat_minor": 0,
  "metadata": {
    "colab": {
      "provenance": []
    },
    "kernelspec": {
      "name": "python3",
      "display_name": "Python 3"
    },
    "language_info": {
      "name": "python"
    }
  },
  "cells": [
    {
      "cell_type": "code",
      "source": [
        "import re\n",
        "with open(file='./nubank.txt', mode='r', encoding='utf8') as arquivo:\n",
        "  texto = arquivo.read()\n",
        "  emails_extraidos = re.findall('\\S+@\\S+', texto)\n",
        "  print(emails_extraidos)"
      ],
      "metadata": {
        "colab": {
          "base_uri": "https://localhost:8080/"
        },
        "id": "3AfC1SM_HQOC",
        "outputId": "8976a41f-1635-41c9-f682-192528d9cedc"
      },
      "execution_count": 2,
      "outputs": [
        {
          "output_type": "stream",
          "name": "stdout",
          "text": [
            "['press@nu.bank', 'ouvidoria@nubank.com.br', 'marketing@nubank.com.br']\n"
          ]
        }
      ]
    }
  ]
}