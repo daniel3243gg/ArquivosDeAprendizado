{
  "nbformat": 4,
  "nbformat_minor": 0,
  "metadata": {
    "colab": {
      "provenance": []
    },
    "kernelspec": {
      "name": "python3",
      "display_name": "Python 3"
    },
    "language_info": {
      "name": "python"
    }
  },
  "cells": [
    {
      "cell_type": "code",
      "execution_count": 13,
      "metadata": {
        "colab": {
          "base_uri": "https://localhost:8080/"
        },
        "id": "pd4OV3mxmItN",
        "outputId": "d9d94a0a-ec41-4612-da67-507a8898dc4a"
      },
      "outputs": [
        {
          "output_type": "stream",
          "name": "stdout",
          "text": [
            "nao conseguiu fugir\n"
          ]
        }
      ],
      "source": [
        "class Animal(object):\n",
        "  def __init__(self,especie:str, idade:int, nome:str, dano:int, vida:int):\n",
        "    self.especie = especie\n",
        "    self.idade = idade\n",
        "    self.nome = nome\n",
        "    self.dano = dano\n",
        "    self.vida = vida\n",
        "  def atacar(self,vida_inimiga:int  ) -> int:\n",
        "    vida_atual = vida_inimiga - self.dano\n",
        "    return vida_atual\n",
        "  def mudarespecie(self,nova_especie:str) -> None:\n",
        "    self.especie = nova_especie\n",
        "  def recuperacao(self,taxa_de_rec:int) -> str:\n",
        "    vida_recuperada = int((self.vida*taxa_de_rec)/100)\n",
        "    self.vida += vida_recuperada\n",
        "    msg_vida_recuperada = f'A QUANTIDADE DE VIDA QUE FOI RECUPERADA FOI {vida_recuperada}'\n",
        "    return msg_vida_recuperada\n",
        "  def __str__(self):\n",
        "    return f'\\n VIDA:{self.vida}\\n DANO: {self.dano}\\n NOME: {self.nome}\\n IDADE: {self.idade}'\n",
        "class AnimalZoologico(Animal):\n",
        "  def __init__(self,especie:str, idade:int, nome:str, dano:int, vida:int, tempo_zoologico:int, passivo:int):\n",
        "    super().__init__(especie=especie, idade=idade, nome=nome, dano=dano,vida=vida)\n",
        "    self.tempo_zoologico = tempo_zoologico\n",
        "    self.passivo = passivo\n",
        "  def tentarfuga(self,dificuldade:int) -> str:\n",
        "    tempo = self.tempo_zoologico > dificuldade\n",
        "    passividade = self.passivo < dificuldade\n",
        "    if(tempo == True & passividade == True):\n",
        "      tentativa = f'PARABENS CONSEGUIU FUGIR'\n",
        "    else:\n",
        "      tentativa = f'nao conseguiu fugir'\n",
        "\n",
        "    return tentativa\n",
        "\n",
        "\n",
        "girafa = AnimalZoologico('girafa', 10, 'carlos', 20, 50, 10,passivo = 3)\n",
        "print(girafa.tentarfuga(20))\n"
      ]
    }
  ]
}