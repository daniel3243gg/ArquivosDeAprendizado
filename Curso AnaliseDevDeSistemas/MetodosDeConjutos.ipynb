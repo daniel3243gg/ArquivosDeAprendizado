{
  "nbformat": 4,
  "nbformat_minor": 0,
  "metadata": {
    "colab": {
      "provenance": []
    },
    "kernelspec": {
      "name": "python3",
      "display_name": "Python 3"
    },
    "language_info": {
      "name": "python"
    }
  },
  "cells": [
    {
      "cell_type": "code",
      "execution_count": 4,
      "metadata": {
        "colab": {
          "base_uri": "https://localhost:8080/"
        },
        "id": "zeFQAf32NthG",
        "outputId": "8af4b9b8-b7db-4bc1-da8e-365f4b85b5d9"
      },
      "outputs": [
        {
          "output_type": "stream",
          "name": "stdout",
          "text": [
            "{40, 50, 20, 39}\n",
            "{100, 39, 40, 50, 20}\n",
            "{39, 40, 50, 20}\n"
          ]
        }
      ],
      "source": [
        "notas_daniel = {40,50,20,39}\n",
        "\n",
        "#adicionar novo elemento ao conjunto\n",
        "print(notas_daniel)\n",
        "notas_daniel.add(100)\n",
        "print(notas_daniel)\n",
        "\n",
        "#remover um elemento do conjuto\n",
        "notas_daniel.remove(100)\n",
        "print(notas_daniel)\n",
        "\n"
      ]
    }
  ]
}