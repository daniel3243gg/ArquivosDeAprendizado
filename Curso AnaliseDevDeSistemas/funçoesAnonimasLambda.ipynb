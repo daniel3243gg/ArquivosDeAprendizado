{
  "nbformat": 4,
  "nbformat_minor": 0,
  "metadata": {
    "colab": {
      "provenance": []
    },
    "kernelspec": {
      "name": "python3",
      "display_name": "Python 3"
    },
    "language_info": {
      "name": "python"
    }
  },
  "cells": [
    {
      "cell_type": "code",
      "execution_count": 9,
      "metadata": {
        "colab": {
          "base_uri": "https://localhost:8080/"
        },
        "id": "LkKiavR0hKnI",
        "outputId": "8d236c1e-eaef-49f0-980e-be8792b7f907"
      },
      "outputs": [
        {
          "output_type": "stream",
          "name": "stdout",
          "text": [
            "damoew600\n"
          ]
        }
      ],
      "source": [
        "email_removedor = lambda email: email.split('@')[0]#parametro:codigo\n",
        "email0 = email_removedor('damoew600@gmail.com')\n",
        "print(email0)"
      ]
    }
  ]
}